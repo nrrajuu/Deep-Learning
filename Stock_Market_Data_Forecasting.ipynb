{
  "nbformat": 4,
  "nbformat_minor": 0,
  "metadata": {
    "colab": {
      "provenance": [],
      "authorship_tag": "ABX9TyOYLmxqQVDS0cSpTGn7w+ty",
      "include_colab_link": true
    },
    "kernelspec": {
      "name": "python3",
      "display_name": "Python 3"
    },
    "language_info": {
      "name": "python"
    },
    "accelerator": "GPU",
    "gpuClass": "standard"
  },
  "cells": [
    {
      "cell_type": "markdown",
      "metadata": {
        "id": "view-in-github",
        "colab_type": "text"
      },
      "source": [
        "<a href=\"https://colab.research.google.com/github/nrrajuu/Deep-Learning/blob/main/Stock_Market_Data_Forecasting.ipynb\" target=\"_parent\"><img src=\"https://colab.research.google.com/assets/colab-badge.svg\" alt=\"Open In Colab\"/></a>"
      ]
    },
    {
      "cell_type": "code",
      "source": [
        "!pip install yfinance\n",
        "!pip install yahoofinancials"
      ],
      "metadata": {
        "colab": {
          "base_uri": "https://localhost:8080/"
        },
        "id": "WUPWNa9sRQie",
        "outputId": "2ca0fd05-c60b-4901-f86c-7774a371f31f"
      },
      "execution_count": null,
      "outputs": [
        {
          "output_type": "stream",
          "name": "stdout",
          "text": [
            "Looking in indexes: https://pypi.org/simple, https://us-python.pkg.dev/colab-wheels/public/simple/\n",
            "Requirement already satisfied: yfinance in /usr/local/lib/python3.8/dist-packages (0.2.3)\n",
            "Requirement already satisfied: requests>=2.26 in /usr/local/lib/python3.8/dist-packages (from yfinance) (2.28.1)\n",
            "Requirement already satisfied: multitasking>=0.0.7 in /usr/local/lib/python3.8/dist-packages (from yfinance) (0.0.11)\n",
            "Requirement already satisfied: pandas>=1.3.0 in /usr/local/lib/python3.8/dist-packages (from yfinance) (1.3.5)\n",
            "Requirement already satisfied: appdirs>=1.4.4 in /usr/local/lib/python3.8/dist-packages (from yfinance) (1.4.4)\n",
            "Requirement already satisfied: frozendict>=2.3.4 in /usr/local/lib/python3.8/dist-packages (from yfinance) (2.3.4)\n",
            "Requirement already satisfied: html5lib>=1.1 in /usr/local/lib/python3.8/dist-packages (from yfinance) (1.1)\n",
            "Requirement already satisfied: numpy>=1.16.5 in /usr/local/lib/python3.8/dist-packages (from yfinance) (1.21.6)\n",
            "Requirement already satisfied: lxml>=4.9.1 in /usr/local/lib/python3.8/dist-packages (from yfinance) (4.9.2)\n",
            "Requirement already satisfied: beautifulsoup4>=4.11.1 in /usr/local/lib/python3.8/dist-packages (from yfinance) (4.11.1)\n",
            "Requirement already satisfied: pytz>=2022.5 in /usr/local/lib/python3.8/dist-packages (from yfinance) (2022.6)\n",
            "Requirement already satisfied: cryptography>=3.3.2 in /usr/local/lib/python3.8/dist-packages (from yfinance) (38.0.4)\n",
            "Requirement already satisfied: soupsieve>1.2 in /usr/local/lib/python3.8/dist-packages (from beautifulsoup4>=4.11.1->yfinance) (2.3.2.post1)\n",
            "Requirement already satisfied: cffi>=1.12 in /usr/local/lib/python3.8/dist-packages (from cryptography>=3.3.2->yfinance) (1.15.1)\n",
            "Requirement already satisfied: pycparser in /usr/local/lib/python3.8/dist-packages (from cffi>=1.12->cryptography>=3.3.2->yfinance) (2.21)\n",
            "Requirement already satisfied: six>=1.9 in /usr/local/lib/python3.8/dist-packages (from html5lib>=1.1->yfinance) (1.15.0)\n",
            "Requirement already satisfied: webencodings in /usr/local/lib/python3.8/dist-packages (from html5lib>=1.1->yfinance) (0.5.1)\n",
            "Requirement already satisfied: python-dateutil>=2.7.3 in /usr/local/lib/python3.8/dist-packages (from pandas>=1.3.0->yfinance) (2.8.2)\n",
            "Requirement already satisfied: certifi>=2017.4.17 in /usr/local/lib/python3.8/dist-packages (from requests>=2.26->yfinance) (2022.12.7)\n",
            "Requirement already satisfied: idna<4,>=2.5 in /usr/local/lib/python3.8/dist-packages (from requests>=2.26->yfinance) (2.10)\n",
            "Requirement already satisfied: charset-normalizer<3,>=2 in /usr/local/lib/python3.8/dist-packages (from requests>=2.26->yfinance) (2.1.1)\n",
            "Requirement already satisfied: urllib3<1.27,>=1.21.1 in /usr/local/lib/python3.8/dist-packages (from requests>=2.26->yfinance) (1.24.3)\n",
            "Looking in indexes: https://pypi.org/simple, https://us-python.pkg.dev/colab-wheels/public/simple/\n",
            "Requirement already satisfied: yahoofinancials in /usr/local/lib/python3.8/dist-packages (1.6)\n",
            "Requirement already satisfied: beautifulsoup4 in /usr/local/lib/python3.8/dist-packages (from yahoofinancials) (4.11.1)\n",
            "Requirement already satisfied: pytz in /usr/local/lib/python3.8/dist-packages (from yahoofinancials) (2022.6)\n",
            "Requirement already satisfied: soupsieve>1.2 in /usr/local/lib/python3.8/dist-packages (from beautifulsoup4->yahoofinancials) (2.3.2.post1)\n"
          ]
        }
      ]
    },
    {
      "cell_type": "code",
      "execution_count": null,
      "metadata": {
        "id": "Fc8HEam2PPW1"
      },
      "outputs": [],
      "source": [
        "import pandas as pd\n",
        "import yfinance as yf\n",
        "from yahoofinancials import YahooFinancials"
      ]
    },
    {
      "cell_type": "code",
      "source": [
        "df = yf.download('ABBV',end='2022-12-20')"
      ],
      "metadata": {
        "colab": {
          "base_uri": "https://localhost:8080/"
        },
        "id": "-Eb3jujHRODE",
        "outputId": "47d0dab6-9a87-4fb4-df87-e7cdc1a0491b"
      },
      "execution_count": null,
      "outputs": [
        {
          "output_type": "stream",
          "name": "stdout",
          "text": [
            "\r[*********************100%***********************]  1 of 1 completed\n"
          ]
        }
      ]
    },
    {
      "cell_type": "code",
      "source": [
        "df"
      ],
      "metadata": {
        "colab": {
          "base_uri": "https://localhost:8080/",
          "height": 455
        },
        "id": "QbVoIIkqRbi3",
        "outputId": "5fe1d51a-fa1e-4cec-a6d5-c774a649ffac"
      },
      "execution_count": null,
      "outputs": [
        {
          "output_type": "execute_result",
          "data": {
            "text/plain": [
              "                  Open        High         Low       Close   Adj Close  \\\n",
              "Date                                                                     \n",
              "2013-01-02   34.919998   35.400002   34.099998   35.119999   23.325546   \n",
              "2013-01-03   35.000000   35.000000   34.160000   34.830002   23.132948   \n",
              "2013-01-04   34.619999   34.889999   34.250000   34.389999   22.840714   \n",
              "2013-01-07   34.150002   35.450001   34.150002   34.459999   22.887205   \n",
              "2013-01-08   34.290001   34.639999   33.360001   33.709999   22.389076   \n",
              "...                ...         ...         ...         ...         ...   \n",
              "2022-12-13  166.949997  167.500000  164.669998  164.789993  164.789993   \n",
              "2022-12-14  164.600006  165.979996  162.830002  164.860001  164.860001   \n",
              "2022-12-15  163.889999  164.610001  161.949997  163.100006  163.100006   \n",
              "2022-12-16  162.050003  163.320007  160.479996  160.479996  160.479996   \n",
              "2022-12-19  160.779999  162.229996  160.059998  161.490005  161.490005   \n",
              "\n",
              "              Volume  \n",
              "Date                  \n",
              "2013-01-02  13767900  \n",
              "2013-01-03  16739300  \n",
              "2013-01-04  21372100  \n",
              "2013-01-07  17897100  \n",
              "2013-01-08  17863300  \n",
              "...              ...  \n",
              "2022-12-13   5050400  \n",
              "2022-12-14   4485400  \n",
              "2022-12-15   5268300  \n",
              "2022-12-16  18904100  \n",
              "2022-12-19   4033400  \n",
              "\n",
              "[2510 rows x 6 columns]"
            ],
            "text/html": [
              "\n",
              "  <div id=\"df-622ba7d2-b542-4969-a8da-1411f4006d5f\">\n",
              "    <div class=\"colab-df-container\">\n",
              "      <div>\n",
              "<style scoped>\n",
              "    .dataframe tbody tr th:only-of-type {\n",
              "        vertical-align: middle;\n",
              "    }\n",
              "\n",
              "    .dataframe tbody tr th {\n",
              "        vertical-align: top;\n",
              "    }\n",
              "\n",
              "    .dataframe thead th {\n",
              "        text-align: right;\n",
              "    }\n",
              "</style>\n",
              "<table border=\"1\" class=\"dataframe\">\n",
              "  <thead>\n",
              "    <tr style=\"text-align: right;\">\n",
              "      <th></th>\n",
              "      <th>Open</th>\n",
              "      <th>High</th>\n",
              "      <th>Low</th>\n",
              "      <th>Close</th>\n",
              "      <th>Adj Close</th>\n",
              "      <th>Volume</th>\n",
              "    </tr>\n",
              "    <tr>\n",
              "      <th>Date</th>\n",
              "      <th></th>\n",
              "      <th></th>\n",
              "      <th></th>\n",
              "      <th></th>\n",
              "      <th></th>\n",
              "      <th></th>\n",
              "    </tr>\n",
              "  </thead>\n",
              "  <tbody>\n",
              "    <tr>\n",
              "      <th>2013-01-02</th>\n",
              "      <td>34.919998</td>\n",
              "      <td>35.400002</td>\n",
              "      <td>34.099998</td>\n",
              "      <td>35.119999</td>\n",
              "      <td>23.325546</td>\n",
              "      <td>13767900</td>\n",
              "    </tr>\n",
              "    <tr>\n",
              "      <th>2013-01-03</th>\n",
              "      <td>35.000000</td>\n",
              "      <td>35.000000</td>\n",
              "      <td>34.160000</td>\n",
              "      <td>34.830002</td>\n",
              "      <td>23.132948</td>\n",
              "      <td>16739300</td>\n",
              "    </tr>\n",
              "    <tr>\n",
              "      <th>2013-01-04</th>\n",
              "      <td>34.619999</td>\n",
              "      <td>34.889999</td>\n",
              "      <td>34.250000</td>\n",
              "      <td>34.389999</td>\n",
              "      <td>22.840714</td>\n",
              "      <td>21372100</td>\n",
              "    </tr>\n",
              "    <tr>\n",
              "      <th>2013-01-07</th>\n",
              "      <td>34.150002</td>\n",
              "      <td>35.450001</td>\n",
              "      <td>34.150002</td>\n",
              "      <td>34.459999</td>\n",
              "      <td>22.887205</td>\n",
              "      <td>17897100</td>\n",
              "    </tr>\n",
              "    <tr>\n",
              "      <th>2013-01-08</th>\n",
              "      <td>34.290001</td>\n",
              "      <td>34.639999</td>\n",
              "      <td>33.360001</td>\n",
              "      <td>33.709999</td>\n",
              "      <td>22.389076</td>\n",
              "      <td>17863300</td>\n",
              "    </tr>\n",
              "    <tr>\n",
              "      <th>...</th>\n",
              "      <td>...</td>\n",
              "      <td>...</td>\n",
              "      <td>...</td>\n",
              "      <td>...</td>\n",
              "      <td>...</td>\n",
              "      <td>...</td>\n",
              "    </tr>\n",
              "    <tr>\n",
              "      <th>2022-12-13</th>\n",
              "      <td>166.949997</td>\n",
              "      <td>167.500000</td>\n",
              "      <td>164.669998</td>\n",
              "      <td>164.789993</td>\n",
              "      <td>164.789993</td>\n",
              "      <td>5050400</td>\n",
              "    </tr>\n",
              "    <tr>\n",
              "      <th>2022-12-14</th>\n",
              "      <td>164.600006</td>\n",
              "      <td>165.979996</td>\n",
              "      <td>162.830002</td>\n",
              "      <td>164.860001</td>\n",
              "      <td>164.860001</td>\n",
              "      <td>4485400</td>\n",
              "    </tr>\n",
              "    <tr>\n",
              "      <th>2022-12-15</th>\n",
              "      <td>163.889999</td>\n",
              "      <td>164.610001</td>\n",
              "      <td>161.949997</td>\n",
              "      <td>163.100006</td>\n",
              "      <td>163.100006</td>\n",
              "      <td>5268300</td>\n",
              "    </tr>\n",
              "    <tr>\n",
              "      <th>2022-12-16</th>\n",
              "      <td>162.050003</td>\n",
              "      <td>163.320007</td>\n",
              "      <td>160.479996</td>\n",
              "      <td>160.479996</td>\n",
              "      <td>160.479996</td>\n",
              "      <td>18904100</td>\n",
              "    </tr>\n",
              "    <tr>\n",
              "      <th>2022-12-19</th>\n",
              "      <td>160.779999</td>\n",
              "      <td>162.229996</td>\n",
              "      <td>160.059998</td>\n",
              "      <td>161.490005</td>\n",
              "      <td>161.490005</td>\n",
              "      <td>4033400</td>\n",
              "    </tr>\n",
              "  </tbody>\n",
              "</table>\n",
              "<p>2510 rows × 6 columns</p>\n",
              "</div>\n",
              "      <button class=\"colab-df-convert\" onclick=\"convertToInteractive('df-622ba7d2-b542-4969-a8da-1411f4006d5f')\"\n",
              "              title=\"Convert this dataframe to an interactive table.\"\n",
              "              style=\"display:none;\">\n",
              "        \n",
              "  <svg xmlns=\"http://www.w3.org/2000/svg\" height=\"24px\"viewBox=\"0 0 24 24\"\n",
              "       width=\"24px\">\n",
              "    <path d=\"M0 0h24v24H0V0z\" fill=\"none\"/>\n",
              "    <path d=\"M18.56 5.44l.94 2.06.94-2.06 2.06-.94-2.06-.94-.94-2.06-.94 2.06-2.06.94zm-11 1L8.5 8.5l.94-2.06 2.06-.94-2.06-.94L8.5 2.5l-.94 2.06-2.06.94zm10 10l.94 2.06.94-2.06 2.06-.94-2.06-.94-.94-2.06-.94 2.06-2.06.94z\"/><path d=\"M17.41 7.96l-1.37-1.37c-.4-.4-.92-.59-1.43-.59-.52 0-1.04.2-1.43.59L10.3 9.45l-7.72 7.72c-.78.78-.78 2.05 0 2.83L4 21.41c.39.39.9.59 1.41.59.51 0 1.02-.2 1.41-.59l7.78-7.78 2.81-2.81c.8-.78.8-2.07 0-2.86zM5.41 20L4 18.59l7.72-7.72 1.47 1.35L5.41 20z\"/>\n",
              "  </svg>\n",
              "      </button>\n",
              "      \n",
              "  <style>\n",
              "    .colab-df-container {\n",
              "      display:flex;\n",
              "      flex-wrap:wrap;\n",
              "      gap: 12px;\n",
              "    }\n",
              "\n",
              "    .colab-df-convert {\n",
              "      background-color: #E8F0FE;\n",
              "      border: none;\n",
              "      border-radius: 50%;\n",
              "      cursor: pointer;\n",
              "      display: none;\n",
              "      fill: #1967D2;\n",
              "      height: 32px;\n",
              "      padding: 0 0 0 0;\n",
              "      width: 32px;\n",
              "    }\n",
              "\n",
              "    .colab-df-convert:hover {\n",
              "      background-color: #E2EBFA;\n",
              "      box-shadow: 0px 1px 2px rgba(60, 64, 67, 0.3), 0px 1px 3px 1px rgba(60, 64, 67, 0.15);\n",
              "      fill: #174EA6;\n",
              "    }\n",
              "\n",
              "    [theme=dark] .colab-df-convert {\n",
              "      background-color: #3B4455;\n",
              "      fill: #D2E3FC;\n",
              "    }\n",
              "\n",
              "    [theme=dark] .colab-df-convert:hover {\n",
              "      background-color: #434B5C;\n",
              "      box-shadow: 0px 1px 3px 1px rgba(0, 0, 0, 0.15);\n",
              "      filter: drop-shadow(0px 1px 2px rgba(0, 0, 0, 0.3));\n",
              "      fill: #FFFFFF;\n",
              "    }\n",
              "  </style>\n",
              "\n",
              "      <script>\n",
              "        const buttonEl =\n",
              "          document.querySelector('#df-622ba7d2-b542-4969-a8da-1411f4006d5f button.colab-df-convert');\n",
              "        buttonEl.style.display =\n",
              "          google.colab.kernel.accessAllowed ? 'block' : 'none';\n",
              "\n",
              "        async function convertToInteractive(key) {\n",
              "          const element = document.querySelector('#df-622ba7d2-b542-4969-a8da-1411f4006d5f');\n",
              "          const dataTable =\n",
              "            await google.colab.kernel.invokeFunction('convertToInteractive',\n",
              "                                                     [key], {});\n",
              "          if (!dataTable) return;\n",
              "\n",
              "          const docLinkHtml = 'Like what you see? Visit the ' +\n",
              "            '<a target=\"_blank\" href=https://colab.research.google.com/notebooks/data_table.ipynb>data table notebook</a>'\n",
              "            + ' to learn more about interactive tables.';\n",
              "          element.innerHTML = '';\n",
              "          dataTable['output_type'] = 'display_data';\n",
              "          await google.colab.output.renderOutput(dataTable, element);\n",
              "          const docLink = document.createElement('div');\n",
              "          docLink.innerHTML = docLinkHtml;\n",
              "          element.appendChild(docLink);\n",
              "        }\n",
              "      </script>\n",
              "    </div>\n",
              "  </div>\n",
              "  "
            ]
          },
          "metadata": {},
          "execution_count": 17
        }
      ]
    },
    {
      "cell_type": "code",
      "source": [
        "import math\n",
        "import matplotlib.pyplot as plt\n",
        "import keras\n",
        "import pandas as pd\n",
        "import numpy as np\n",
        "from keras.models import Sequential\n",
        "from keras.layers import Dense\n",
        "from keras.layers import Bidirectional\n",
        "from keras.layers import LSTM\n",
        "from keras.layers import Dropout\n",
        "from keras.layers import *\n",
        "from sklearn.preprocessing import MinMaxScaler\n",
        "from sklearn.metrics import mean_squared_error\n",
        "from sklearn.metrics import mean_absolute_error\n",
        "from sklearn.model_selection import train_test_split\n",
        "from keras.callbacks import EarlyStopping"
      ],
      "metadata": {
        "id": "FMFJChDqRb2b"
      },
      "execution_count": null,
      "outputs": []
    },
    {
      "cell_type": "code",
      "source": [
        "df.shape"
      ],
      "metadata": {
        "colab": {
          "base_uri": "https://localhost:8080/"
        },
        "id": "YCCTfC9fTpwS",
        "outputId": "6e3b5efa-3eca-43a0-a5a0-d4082d8122bf"
      },
      "execution_count": null,
      "outputs": [
        {
          "output_type": "execute_result",
          "data": {
            "text/plain": [
              "(2510, 6)"
            ]
          },
          "metadata": {},
          "execution_count": 19
        }
      ]
    },
    {
      "cell_type": "code",
      "source": [
        "training_set = df.iloc[:2000, 1:2].values\n",
        "test_set = df.iloc[2000:, 1:2].values"
      ],
      "metadata": {
        "id": "E0Rd97gLSs75"
      },
      "execution_count": null,
      "outputs": []
    },
    {
      "cell_type": "code",
      "source": [
        "# Feature Scaling\n",
        "sc = MinMaxScaler(feature_range = (-1, 1))\n",
        "training_set_scaled = sc.fit_transform(training_set)\n",
        "# Creating a data structure with 60 time-steps and 1 output\n",
        "X_train = []\n",
        "y_train = []\n",
        "for i in range(30, 2000):\n",
        "    X_train.append(training_set_scaled[i-30:i, 0])\n",
        "    y_train.append(training_set_scaled[i, 0])\n",
        "X_train, y_train = np.array(X_train), np.array(y_train)\n",
        "X_train = np.reshape(X_train, (X_train.shape[0], X_train.shape[1], 1))\n"
      ],
      "metadata": {
        "id": "-2XqiIdgStCl"
      },
      "execution_count": null,
      "outputs": []
    },
    {
      "cell_type": "code",
      "source": [
        "model = Sequential()\n",
        "#Adding the first LSTM layer and some Dropout regularisation\n",
        "model.add(Bidirectional(LSTM(units = 50, return_sequences = True, input_shape = (X_train.shape[1], 1))))\n",
        "model.add(Dropout(0.2))\n",
        "# Adding a second LSTM layer and some Dropout regularisation\n",
        "model.add(Bidirectional(LSTM(units = 50, return_sequences = True)))\n",
        "model.add(Dropout(0.2))\n",
        "# Adding a third LSTM layer and some Dropout regularisation\n",
        "model.add(Bidirectional(LSTM(units = 50, return_sequences = True)))\n",
        "model.add(Dropout(0.2))\n",
        "# Adding a fourth LSTM layer and some Dropout regularisation\n",
        "model.add(Bidirectional(LSTM(units = 50)))\n",
        "model.add(Dropout(0.2))\n",
        "# Adding the output layer\n",
        "model.add(Dense(units = 1))\n",
        "\n",
        "# Compiling the RNN\n",
        "model.compile(optimizer = 'adam', loss = 'mean_squared_error')\n",
        "\n",
        "# Fitting the RNN to the Training set\n",
        "history=model.fit(X_train, y_train, epochs = 50, batch_size = 32)"
      ],
      "metadata": {
        "colab": {
          "base_uri": "https://localhost:8080/"
        },
        "id": "1dsgvzh-StEx",
        "outputId": "f096de0c-6070-4ab8-fbfc-492ef39ddef7"
      },
      "execution_count": null,
      "outputs": [
        {
          "output_type": "stream",
          "name": "stdout",
          "text": [
            "Epoch 1/50\n",
            "62/62 [==============================] - 22s 39ms/step - loss: 0.0156\n",
            "Epoch 2/50\n",
            "62/62 [==============================] - 2s 34ms/step - loss: 0.0056\n",
            "Epoch 3/50\n",
            "62/62 [==============================] - 1s 21ms/step - loss: 0.0048\n",
            "Epoch 4/50\n",
            "62/62 [==============================] - 1s 20ms/step - loss: 0.0045\n",
            "Epoch 5/50\n",
            "62/62 [==============================] - 1s 21ms/step - loss: 0.0042\n",
            "Epoch 6/50\n",
            "62/62 [==============================] - 1s 21ms/step - loss: 0.0043\n",
            "Epoch 7/50\n",
            "62/62 [==============================] - 1s 21ms/step - loss: 0.0039\n",
            "Epoch 8/50\n",
            "62/62 [==============================] - 2s 28ms/step - loss: 0.0035\n",
            "Epoch 9/50\n",
            "62/62 [==============================] - 2s 34ms/step - loss: 0.0038\n",
            "Epoch 10/50\n",
            "62/62 [==============================] - 2s 35ms/step - loss: 0.0032\n",
            "Epoch 11/50\n",
            "62/62 [==============================] - 2s 36ms/step - loss: 0.0031\n",
            "Epoch 12/50\n",
            "62/62 [==============================] - 2s 37ms/step - loss: 0.0030\n",
            "Epoch 13/50\n",
            "62/62 [==============================] - 2s 33ms/step - loss: 0.0033\n",
            "Epoch 14/50\n",
            "62/62 [==============================] - 2s 34ms/step - loss: 0.0029\n",
            "Epoch 15/50\n",
            "62/62 [==============================] - 2s 29ms/step - loss: 0.0026\n",
            "Epoch 16/50\n",
            "62/62 [==============================] - 1s 21ms/step - loss: 0.0029\n",
            "Epoch 17/50\n",
            "62/62 [==============================] - 1s 21ms/step - loss: 0.0028\n",
            "Epoch 18/50\n",
            "62/62 [==============================] - 1s 20ms/step - loss: 0.0027\n",
            "Epoch 19/50\n",
            "62/62 [==============================] - 1s 21ms/step - loss: 0.0027\n",
            "Epoch 20/50\n",
            "62/62 [==============================] - 1s 21ms/step - loss: 0.0023\n",
            "Epoch 21/50\n",
            "62/62 [==============================] - 1s 20ms/step - loss: 0.0025\n",
            "Epoch 22/50\n",
            "62/62 [==============================] - 1s 21ms/step - loss: 0.0023\n",
            "Epoch 23/50\n",
            "62/62 [==============================] - 1s 21ms/step - loss: 0.0022\n",
            "Epoch 24/50\n",
            "62/62 [==============================] - 1s 21ms/step - loss: 0.0022\n",
            "Epoch 25/50\n",
            "62/62 [==============================] - 1s 21ms/step - loss: 0.0027\n",
            "Epoch 26/50\n",
            "62/62 [==============================] - 1s 20ms/step - loss: 0.0024\n",
            "Epoch 27/50\n",
            "62/62 [==============================] - 1s 21ms/step - loss: 0.0024\n",
            "Epoch 28/50\n",
            "62/62 [==============================] - 1s 20ms/step - loss: 0.0025\n",
            "Epoch 29/50\n",
            "62/62 [==============================] - 1s 21ms/step - loss: 0.0025\n",
            "Epoch 30/50\n",
            "62/62 [==============================] - 1s 21ms/step - loss: 0.0025\n",
            "Epoch 31/50\n",
            "62/62 [==============================] - 1s 20ms/step - loss: 0.0026\n",
            "Epoch 32/50\n",
            "62/62 [==============================] - 1s 21ms/step - loss: 0.0025\n",
            "Epoch 33/50\n",
            "62/62 [==============================] - 1s 21ms/step - loss: 0.0026\n",
            "Epoch 34/50\n",
            "62/62 [==============================] - 1s 21ms/step - loss: 0.0022\n",
            "Epoch 35/50\n",
            "62/62 [==============================] - 1s 21ms/step - loss: 0.0021\n",
            "Epoch 36/50\n",
            "62/62 [==============================] - 1s 20ms/step - loss: 0.0024\n",
            "Epoch 37/50\n",
            "62/62 [==============================] - 1s 20ms/step - loss: 0.0020\n",
            "Epoch 38/50\n",
            "62/62 [==============================] - 1s 20ms/step - loss: 0.0023\n",
            "Epoch 39/50\n",
            "62/62 [==============================] - 1s 20ms/step - loss: 0.0024\n",
            "Epoch 40/50\n",
            "62/62 [==============================] - 1s 21ms/step - loss: 0.0022\n",
            "Epoch 41/50\n",
            "62/62 [==============================] - 1s 21ms/step - loss: 0.0023\n",
            "Epoch 42/50\n",
            "62/62 [==============================] - 2s 30ms/step - loss: 0.0021\n",
            "Epoch 43/50\n",
            "62/62 [==============================] - 2s 28ms/step - loss: 0.0030\n",
            "Epoch 44/50\n",
            "62/62 [==============================] - 1s 21ms/step - loss: 0.0021\n",
            "Epoch 45/50\n",
            "62/62 [==============================] - 1s 20ms/step - loss: 0.0020\n",
            "Epoch 46/50\n",
            "62/62 [==============================] - 1s 21ms/step - loss: 0.0023\n",
            "Epoch 47/50\n",
            "62/62 [==============================] - 1s 21ms/step - loss: 0.0021\n",
            "Epoch 48/50\n",
            "62/62 [==============================] - 1s 21ms/step - loss: 0.0019\n",
            "Epoch 49/50\n",
            "62/62 [==============================] - 1s 21ms/step - loss: 0.0021\n",
            "Epoch 50/50\n",
            "62/62 [==============================] - 1s 20ms/step - loss: 0.0020\n"
          ]
        }
      ]
    },
    {
      "cell_type": "code",
      "source": [
        "import tensorflow\n",
        "tensorflow.keras.utils.plot_model(model,show_shapes=True)\n"
      ],
      "metadata": {
        "colab": {
          "base_uri": "https://localhost:8080/",
          "height": 1000
        },
        "id": "aDmkGDPqEmo0",
        "outputId": "ae3354cd-85e3-4726-8d7d-898f90d71d8d"
      },
      "execution_count": null,
      "outputs": [
        {
          "output_type": "execute_result",
          "data": {
            "image/png": "[encoded data removed]",
            "text/plain": [
              "<IPython.core.display.Image object>"
            ]
          },
          "metadata": {},
          "execution_count": 23
        }
      ]
    },
    {
      "cell_type": "code",
      "source": [
        "plt.plot(history.history['loss'])\n",
        "plt.title('model loss for ABBV Stock Price Prediction')\n",
        "plt.ylabel('loss')\n",
        "plt.xlabel('number of epochs')\n",
        "plt.show()"
      ],
      "metadata": {
        "colab": {
          "base_uri": "https://localhost:8080/",
          "height": 295
        },
        "id": "Yp9bfw9rStPe",
        "outputId": "add83818-57b2-4a2f-f083-fc541f62cff3"
      },
      "execution_count": null,
      "outputs": [
        {
          "output_type": "display_data",
          "data": {
            "text/plain": [
              "<Figure size 432x288 with 1 Axes>"
            ],
            "image/png": "[encoded data removed]"
          },
          "metadata": {
            "needs_background": "light"
          }
        }
      ]
    },
    {
      "cell_type": "code",
      "source": [],
      "metadata": {
        "id": "2wRx1hgEEh_b"
      },
      "execution_count": null,
      "outputs": []
    },
    {
      "cell_type": "code",
      "source": [
        "dataset_test = df.iloc[2000:, 1:2]\n",
        "dataset_test.shape"
      ],
      "metadata": {
        "colab": {
          "base_uri": "https://localhost:8080/"
        },
        "id": "7-A6pBOSStSE",
        "outputId": "4d220e4d-04a6-46a7-d198-60663917d84a"
      },
      "execution_count": null,
      "outputs": [
        {
          "output_type": "execute_result",
          "data": {
            "text/plain": [
              "(510, 1)"
            ]
          },
          "metadata": {},
          "execution_count": 25
        }
      ]
    },
    {
      "cell_type": "code",
      "source": [
        "dataset_train = df.iloc[:2000, 1:2]\n",
        "dataset_test = df.iloc[2000:, 1:2]\n",
        "dataset_total = pd.concat((dataset_train, dataset_test), axis = 0)\n",
        "inputs = dataset_total[len(dataset_total) - len(dataset_test) - 30:].values\n",
        "inputs = inputs.reshape(-1,1)\n",
        "inputs = sc.transform(inputs)\n",
        "X_test = []\n",
        "for i in range(30, 509):\n",
        "    X_test.append(inputs[i-30:i, 0])\n",
        "X_test = np.array(X_test)\n",
        "X_test = np.reshape(X_test, (X_test.shape[0], X_test.shape[1], 1))\n",
        "print(X_test.shape)\n"
      ],
      "metadata": {
        "colab": {
          "base_uri": "https://localhost:8080/"
        },
        "id": "hoeA-R3JStVF",
        "outputId": "495af78d-f884-435b-f7be-86aa4ebd789d"
      },
      "execution_count": null,
      "outputs": [
        {
          "output_type": "stream",
          "name": "stdout",
          "text": [
            "(479, 30, 1)\n"
          ]
        }
      ]
    },
    {
      "cell_type": "code",
      "source": [
        "predicted_stock_price = model.predict(X_test)\n",
        "predicted_stock_price = sc.inverse_transform(predicted_stock_price)"
      ],
      "metadata": {
        "colab": {
          "base_uri": "https://localhost:8080/"
        },
        "id": "bxRGxvXRStXd",
        "outputId": "98b3d5d9-7500-41e8-8b57-9256a8279ea9"
      },
      "execution_count": null,
      "outputs": [
        {
          "output_type": "stream",
          "name": "stdout",
          "text": [
            "15/15 [==============================] - 3s 9ms/step\n"
          ]
        }
      ]
    },
    {
      "cell_type": "code",
      "source": [
        "true_y=dataset_test.values"
      ],
      "metadata": {
        "id": "ta32_Qz_StZz"
      },
      "execution_count": null,
      "outputs": []
    },
    {
      "cell_type": "code",
      "source": [
        "\n",
        "\n",
        "plt.plot(predicted_stock_price, label='Predicted')\n",
        "plt.plot(true_y[0:449], label='Original')\n",
        "plt.xlabel('Forecasted Duration ( in Days) ')\n",
        "plt.ylabel('The Price of the ABBV Stock')\n",
        "plt.title('The Visualization of Orginal and Predicted ABBV Stock Prices')\n",
        "plt.legend()\n"
      ],
      "metadata": {
        "colab": {
          "base_uri": "https://localhost:8080/",
          "height": 312
        },
        "id": "l7BsFL4eStcD",
        "outputId": "3f39ebea-9eca-4862-e68a-27eae0fff8cc"
      },
      "execution_count": null,
      "outputs": [
        {
          "output_type": "execute_result",
          "data": {
            "text/plain": [
              "<matplotlib.legend.Legend at 0x7f5bd7e639a0>"
            ]
          },
          "metadata": {},
          "execution_count": 29
        },
        {
          "output_type": "display_data",
          "data": {
            "text/plain": [
              "<Figure size 432x288 with 1 Axes>"
            ],
            "image/png": "[encoded data removed]"
          },
          "metadata": {
            "needs_background": "light"
          }
        }
      ]
    },
    {
      "cell_type": "code",
      "source": [
        "predicted_stock_price.shape"
      ],
      "metadata": {
        "colab": {
          "base_uri": "https://localhost:8080/"
        },
        "id": "ebrlSb1qTgje",
        "outputId": "c2da2b11-4137-4a19-a9a3-f07a9facabd1"
      },
      "execution_count": null,
      "outputs": [
        {
          "output_type": "execute_result",
          "data": {
            "text/plain": [
              "(479, 1)"
            ]
          },
          "metadata": {},
          "execution_count": 30
        }
      ]
    },
    {
      "cell_type": "code",
      "source": [
        "true_y[0:479].shape"
      ],
      "metadata": {
        "colab": {
          "base_uri": "https://localhost:8080/"
        },
        "id": "FBan9Q68TgmJ",
        "outputId": "3d5a8e41-9ec3-4afd-f3d6-18f5f91c1a3b"
      },
      "execution_count": null,
      "outputs": [
        {
          "output_type": "execute_result",
          "data": {
            "text/plain": [
              "(479, 1)"
            ]
          },
          "metadata": {},
          "execution_count": 31
        }
      ]
    },
    {
      "cell_type": "code",
      "source": [
        "import math\n",
        "from sklearn.metrics import mean_squared_error\n",
        "error=math.sqrt(mean_squared_error(predicted_stock_price,true_y[0:479]))\n",
        "error"
      ],
      "metadata": {
        "colab": {
          "base_uri": "https://localhost:8080/"
        },
        "id": "TjacTbHWTgod",
        "outputId": "b4ed48ed-ee37-43ef-9641-41b11ace3695"
      },
      "execution_count": null,
      "outputs": [
        {
          "output_type": "execute_result",
          "data": {
            "text/plain": [
              "4.643807453136207"
            ]
          },
          "metadata": {},
          "execution_count": 32
        }
      ]
    },
    {
      "cell_type": "code",
      "source": [],
      "metadata": {
        "id": "KXyYAno4cXEt"
      },
      "execution_count": null,
      "outputs": []
    },
    {
      "cell_type": "code",
      "source": [],
      "metadata": {
        "id": "Yp2FdzKgcXHa"
      },
      "execution_count": null,
      "outputs": []
    },
    {
      "cell_type": "code",
      "source": [],
      "metadata": {
        "id": "TqBMhIVTcXJ4"
      },
      "execution_count": null,
      "outputs": []
    },
    {
      "cell_type": "code",
      "source": [
        "df = yf.download('GOOG',end='2022-12-20')"
      ],
      "metadata": {
        "colab": {
          "base_uri": "https://localhost:8080/"
        },
        "id": "JOQ0Y1ficXMe",
        "outputId": "384af365-3221-4bac-ca9a-db6d4fa71ed6"
      },
      "execution_count": null,
      "outputs": [
        {
          "output_type": "stream",
          "name": "stdout",
          "text": [
            "\r[*********************100%***********************]  1 of 1 completed\n"
          ]
        }
      ]
    },
    {
      "cell_type": "code",
      "source": [
        "df"
      ],
      "metadata": {
        "colab": {
          "base_uri": "https://localhost:8080/",
          "height": 455
        },
        "id": "AdCmEqqLcYU3",
        "outputId": "8bab84b4-a033-4d6f-b1dd-361233357589"
      },
      "execution_count": null,
      "outputs": [
        {
          "output_type": "execute_result",
          "data": {
            "text/plain": [
              "                 Open       High        Low      Close  Adj Close     Volume\n",
              "Date                                                                        \n",
              "2004-08-19   2.490664   2.591785   2.390042   2.499133   2.499133  897427216\n",
              "2004-08-20   2.515820   2.716817   2.503118   2.697639   2.697639  458857488\n",
              "2004-08-23   2.758411   2.826406   2.716070   2.724787   2.724787  366857939\n",
              "2004-08-24   2.770615   2.779581   2.579581   2.611960   2.611960  306396159\n",
              "2004-08-25   2.614201   2.689918   2.587302   2.640104   2.640104  184645512\n",
              "...               ...        ...        ...        ...        ...        ...\n",
              "2022-12-13  98.070000  99.800003  95.379997  95.849998  95.849998   34788500\n",
              "2022-12-14  95.540001  97.220001  93.940002  95.309998  95.309998   26452900\n",
              "2022-12-15  93.540001  94.029999  90.430000  91.199997  91.199997   28298800\n",
              "2022-12-16  91.199997  91.750000  90.010002  90.860001  90.860001   48472500\n",
              "2022-12-19  90.879997  91.199997  88.925003  89.150002  89.150002   23020500\n",
              "\n",
              "[4617 rows x 6 columns]"
            ],
            "text/html": [
              "\n",
              "  <div id=\"df-adc91e1e-51e9-477b-a32d-bd433989e8f6\">\n",
              "    <div class=\"colab-df-container\">\n",
              "      <div>\n",
              "<style scoped>\n",
              "    .dataframe tbody tr th:only-of-type {\n",
              "        vertical-align: middle;\n",
              "    }\n",
              "\n",
              "    .dataframe tbody tr th {\n",
              "        vertical-align: top;\n",
              "    }\n",
              "\n",
              "    .dataframe thead th {\n",
              "        text-align: right;\n",
              "    }\n",
              "</style>\n",
              "<table border=\"1\" class=\"dataframe\">\n",
              "  <thead>\n",
              "    <tr style=\"text-align: right;\">\n",
              "      <th></th>\n",
              "      <th>Open</th>\n",
              "      <th>High</th>\n",
              "      <th>Low</th>\n",
              "      <th>Close</th>\n",
              "      <th>Adj Close</th>\n",
              "      <th>Volume</th>\n",
              "    </tr>\n",
              "    <tr>\n",
              "      <th>Date</th>\n",
              "      <th></th>\n",
              "      <th></th>\n",
              "      <th></th>\n",
              "      <th></th>\n",
              "      <th></th>\n",
              "      <th></th>\n",
              "    </tr>\n",
              "  </thead>\n",
              "  <tbody>\n",
              "    <tr>\n",
              "      <th>2004-08-19</th>\n",
              "      <td>2.490664</td>\n",
              "      <td>2.591785</td>\n",
              "      <td>2.390042</td>\n",
              "      <td>2.499133</td>\n",
              "      <td>2.499133</td>\n",
              "      <td>897427216</td>\n",
              "    </tr>\n",
              "    <tr>\n",
              "      <th>2004-08-20</th>\n",
              "      <td>2.515820</td>\n",
              "      <td>2.716817</td>\n",
              "      <td>2.503118</td>\n",
              "      <td>2.697639</td>\n",
              "      <td>2.697639</td>\n",
              "      <td>458857488</td>\n",
              "    </tr>\n",
              "    <tr>\n",
              "      <th>2004-08-23</th>\n",
              "      <td>2.758411</td>\n",
              "      <td>2.826406</td>\n",
              "      <td>2.716070</td>\n",
              "      <td>2.724787</td>\n",
              "      <td>2.724787</td>\n",
              "      <td>366857939</td>\n",
              "    </tr>\n",
              "    <tr>\n",
              "      <th>2004-08-24</th>\n",
              "      <td>2.770615</td>\n",
              "      <td>2.779581</td>\n",
              "      <td>2.579581</td>\n",
              "      <td>2.611960</td>\n",
              "      <td>2.611960</td>\n",
              "      <td>306396159</td>\n",
              "    </tr>\n",
              "    <tr>\n",
              "      <th>2004-08-25</th>\n",
              "      <td>2.614201</td>\n",
              "      <td>2.689918</td>\n",
              "      <td>2.587302</td>\n",
              "      <td>2.640104</td>\n",
              "      <td>2.640104</td>\n",
              "      <td>184645512</td>\n",
              "    </tr>\n",
              "    <tr>\n",
              "      <th>...</th>\n",
              "      <td>...</td>\n",
              "      <td>...</td>\n",
              "      <td>...</td>\n",
              "      <td>...</td>\n",
              "      <td>...</td>\n",
              "      <td>...</td>\n",
              "    </tr>\n",
              "    <tr>\n",
              "      <th>2022-12-13</th>\n",
              "      <td>98.070000</td>\n",
              "      <td>99.800003</td>\n",
              "      <td>95.379997</td>\n",
              "      <td>95.849998</td>\n",
              "      <td>95.849998</td>\n",
              "      <td>34788500</td>\n",
              "    </tr>\n",
              "    <tr>\n",
              "      <th>2022-12-14</th>\n",
              "      <td>95.540001</td>\n",
              "      <td>97.220001</td>\n",
              "      <td>93.940002</td>\n",
              "      <td>95.309998</td>\n",
              "      <td>95.309998</td>\n",
              "      <td>26452900</td>\n",
              "    </tr>\n",
              "    <tr>\n",
              "      <th>2022-12-15</th>\n",
              "      <td>93.540001</td>\n",
              "      <td>94.029999</td>\n",
              "      <td>90.430000</td>\n",
              "      <td>91.199997</td>\n",
              "      <td>91.199997</td>\n",
              "      <td>28298800</td>\n",
              "    </tr>\n",
              "    <tr>\n",
              "      <th>2022-12-16</th>\n",
              "      <td>91.199997</td>\n",
              "      <td>91.750000</td>\n",
              "      <td>90.010002</td>\n",
              "      <td>90.860001</td>\n",
              "      <td>90.860001</td>\n",
              "      <td>48472500</td>\n",
              "    </tr>\n",
              "    <tr>\n",
              "      <th>2022-12-19</th>\n",
              "      <td>90.879997</td>\n",
              "      <td>91.199997</td>\n",
              "      <td>88.925003</td>\n",
              "      <td>89.150002</td>\n",
              "      <td>89.150002</td>\n",
              "      <td>23020500</td>\n",
              "    </tr>\n",
              "  </tbody>\n",
              "</table>\n",
              "<p>4617 rows × 6 columns</p>\n",
              "</div>\n",
              "      <button class=\"colab-df-convert\" onclick=\"convertToInteractive('df-adc91e1e-51e9-477b-a32d-bd433989e8f6')\"\n",
              "              title=\"Convert this dataframe to an interactive table.\"\n",
              "              style=\"display:none;\">\n",
              "        \n",
              "  <svg xmlns=\"http://www.w3.org/2000/svg\" height=\"24px\"viewBox=\"0 0 24 24\"\n",
              "       width=\"24px\">\n",
              "    <path d=\"M0 0h24v24H0V0z\" fill=\"none\"/>\n",
              "    <path d=\"M18.56 5.44l.94 2.06.94-2.06 2.06-.94-2.06-.94-.94-2.06-.94 2.06-2.06.94zm-11 1L8.5 8.5l.94-2.06 2.06-.94-2.06-.94L8.5 2.5l-.94 2.06-2.06.94zm10 10l.94 2.06.94-2.06 2.06-.94-2.06-.94-.94-2.06-.94 2.06-2.06.94z\"/><path d=\"M17.41 7.96l-1.37-1.37c-.4-.4-.92-.59-1.43-.59-.52 0-1.04.2-1.43.59L10.3 9.45l-7.72 7.72c-.78.78-.78 2.05 0 2.83L4 21.41c.39.39.9.59 1.41.59.51 0 1.02-.2 1.41-.59l7.78-7.78 2.81-2.81c.8-.78.8-2.07 0-2.86zM5.41 20L4 18.59l7.72-7.72 1.47 1.35L5.41 20z\"/>\n",
              "  </svg>\n",
              "      </button>\n",
              "      \n",
              "  <style>\n",
              "    .colab-df-container {\n",
              "      display:flex;\n",
              "      flex-wrap:wrap;\n",
              "      gap: 12px;\n",
              "    }\n",
              "\n",
              "    .colab-df-convert {\n",
              "      background-color: #E8F0FE;\n",
              "      border: none;\n",
              "      border-radius: 50%;\n",
              "      cursor: pointer;\n",
              "      display: none;\n",
              "      fill: #1967D2;\n",
              "      height: 32px;\n",
              "      padding: 0 0 0 0;\n",
              "      width: 32px;\n",
              "    }\n",
              "\n",
              "    .colab-df-convert:hover {\n",
              "      background-color: #E2EBFA;\n",
              "      box-shadow: 0px 1px 2px rgba(60, 64, 67, 0.3), 0px 1px 3px 1px rgba(60, 64, 67, 0.15);\n",
              "      fill: #174EA6;\n",
              "    }\n",
              "\n",
              "    [theme=dark] .colab-df-convert {\n",
              "      background-color: #3B4455;\n",
              "      fill: #D2E3FC;\n",
              "    }\n",
              "\n",
              "    [theme=dark] .colab-df-convert:hover {\n",
              "      background-color: #434B5C;\n",
              "      box-shadow: 0px 1px 3px 1px rgba(0, 0, 0, 0.15);\n",
              "      filter: drop-shadow(0px 1px 2px rgba(0, 0, 0, 0.3));\n",
              "      fill: #FFFFFF;\n",
              "    }\n",
              "  </style>\n",
              "\n",
              "      <script>\n",
              "        const buttonEl =\n",
              "          document.querySelector('#df-adc91e1e-51e9-477b-a32d-bd433989e8f6 button.colab-df-convert');\n",
              "        buttonEl.style.display =\n",
              "          google.colab.kernel.accessAllowed ? 'block' : 'none';\n",
              "\n",
              "        async function convertToInteractive(key) {\n",
              "          const element = document.querySelector('#df-adc91e1e-51e9-477b-a32d-bd433989e8f6');\n",
              "          const dataTable =\n",
              "            await google.colab.kernel.invokeFunction('convertToInteractive',\n",
              "                                                     [key], {});\n",
              "          if (!dataTable) return;\n",
              "\n",
              "          const docLinkHtml = 'Like what you see? Visit the ' +\n",
              "            '<a target=\"_blank\" href=https://colab.research.google.com/notebooks/data_table.ipynb>data table notebook</a>'\n",
              "            + ' to learn more about interactive tables.';\n",
              "          element.innerHTML = '';\n",
              "          dataTable['output_type'] = 'display_data';\n",
              "          await google.colab.output.renderOutput(dataTable, element);\n",
              "          const docLink = document.createElement('div');\n",
              "          docLink.innerHTML = docLinkHtml;\n",
              "          element.appendChild(docLink);\n",
              "        }\n",
              "      </script>\n",
              "    </div>\n",
              "  </div>\n",
              "  "
            ]
          },
          "metadata": {},
          "execution_count": 74
        }
      ]
    },
    {
      "cell_type": "code",
      "source": [
        "import math\n",
        "import matplotlib.pyplot as plt\n",
        "import keras\n",
        "import pandas as pd\n",
        "import numpy as np\n",
        "from keras.models import Sequential\n",
        "from keras.layers import Dense\n",
        "from keras.layers import Bidirectional\n",
        "from keras.layers import LSTM\n",
        "from keras.layers import Dropout\n",
        "from keras.layers import *\n",
        "from sklearn.preprocessing import MinMaxScaler\n",
        "from sklearn.metrics import mean_squared_error\n",
        "from sklearn.metrics import mean_absolute_error\n",
        "from sklearn.model_selection import train_test_split\n",
        "from keras.callbacks import EarlyStopping"
      ],
      "metadata": {
        "id": "BOo5RsrwcdUu"
      },
      "execution_count": null,
      "outputs": []
    },
    {
      "cell_type": "code",
      "source": [
        "df.shape"
      ],
      "metadata": {
        "colab": {
          "base_uri": "https://localhost:8080/"
        },
        "id": "sv5IBqVUcf8E",
        "outputId": "d8abd25c-7916-4512-cae4-c32fd212aa33"
      },
      "execution_count": null,
      "outputs": [
        {
          "output_type": "execute_result",
          "data": {
            "text/plain": [
              "(4617, 6)"
            ]
          },
          "metadata": {},
          "execution_count": 76
        }
      ]
    },
    {
      "cell_type": "code",
      "source": [
        "training_set = df.iloc[:4300, 1:2].values\n",
        "test_set = df.iloc[4300:, 1:2].values"
      ],
      "metadata": {
        "id": "6Q-4Kw_2ch5r"
      },
      "execution_count": null,
      "outputs": []
    },
    {
      "cell_type": "code",
      "source": [
        "# Feature Scaling\n",
        "sc = MinMaxScaler(feature_range = (-1, 1))\n",
        "training_set_scaled = sc.fit_transform(training_set)\n",
        "# Creating a data structure with 60 time-steps and 1 output\n",
        "X_train = []\n",
        "y_train = []\n",
        "for i in range(30, 4300):\n",
        "    X_train.append(training_set_scaled[i-30:i, 0])\n",
        "    y_train.append(training_set_scaled[i, 0])\n",
        "X_train, y_train = np.array(X_train), np.array(y_train)\n",
        "X_train = np.reshape(X_train, (X_train.shape[0], X_train.shape[1], 1))\n"
      ],
      "metadata": {
        "id": "Jip0UVvIcj0f"
      },
      "execution_count": null,
      "outputs": []
    },
    {
      "cell_type": "code",
      "source": [
        "model = Sequential()\n",
        "#Adding the first LSTM layer and some Dropout regularisation\n",
        "model.add(Bidirectional(LSTM(units = 50, return_sequences = True, input_shape = (X_train.shape[1], 1))))\n",
        "model.add(Dropout(0.2))\n",
        "# Adding a second LSTM layer and some Dropout regularisation\n",
        "model.add(Bidirectional(LSTM(units = 50, return_sequences = True)))\n",
        "model.add(Dropout(0.2))\n",
        "# Adding a third LSTM layer and some Dropout regularisation\n",
        "model.add(Bidirectional(LSTM(units = 50, return_sequences = True)))\n",
        "model.add(Dropout(0.2))\n",
        "# Adding a fourth LSTM layer and some Dropout regularisation\n",
        "model.add(Bidirectional(LSTM(units = 50)))\n",
        "model.add(Dropout(0.2))\n",
        "# Adding the output layer\n",
        "model.add(Dense(units = 1))\n",
        "\n",
        "# Compiling the RNN\n",
        "model.compile(optimizer = 'adam', loss = 'mean_squared_error')\n",
        "\n",
        "# Fitting the RNN to the Training set\n",
        "history=model.fit(X_train, y_train, epochs = 50, batch_size = 32)"
      ],
      "metadata": {
        "colab": {
          "base_uri": "https://localhost:8080/"
        },
        "id": "FjW8RgxIcj3M",
        "outputId": "35c6ee4a-ab0e-4c8d-8583-fc8e9781f057"
      },
      "execution_count": null,
      "outputs": [
        {
          "output_type": "stream",
          "name": "stdout",
          "text": [
            "Epoch 1/50\n",
            "134/134 [==============================] - 16s 24ms/step - loss: 0.0159\n",
            "Epoch 2/50\n",
            "134/134 [==============================] - 3s 24ms/step - loss: 0.0033\n",
            "Epoch 3/50\n",
            "134/134 [==============================] - 3s 24ms/step - loss: 0.0030\n",
            "Epoch 4/50\n",
            "134/134 [==============================] - 3s 23ms/step - loss: 0.0026\n",
            "Epoch 5/50\n",
            "134/134 [==============================] - 3s 23ms/step - loss: 0.0031\n",
            "Epoch 6/50\n",
            "134/134 [==============================] - 4s 32ms/step - loss: 0.0024\n",
            "Epoch 7/50\n",
            "134/134 [==============================] - 3s 23ms/step - loss: 0.0023\n",
            "Epoch 8/50\n",
            "134/134 [==============================] - 3s 23ms/step - loss: 0.0025\n",
            "Epoch 9/50\n",
            "134/134 [==============================] - 3s 23ms/step - loss: 0.0024\n",
            "Epoch 10/50\n",
            "134/134 [==============================] - 3s 23ms/step - loss: 0.0022\n",
            "Epoch 11/50\n",
            "134/134 [==============================] - 4s 27ms/step - loss: 0.0020\n",
            "Epoch 12/50\n",
            "134/134 [==============================] - 4s 26ms/step - loss: 0.0021\n",
            "Epoch 13/50\n",
            "134/134 [==============================] - 3s 23ms/step - loss: 0.0019\n",
            "Epoch 14/50\n",
            "134/134 [==============================] - 3s 22ms/step - loss: 0.0019\n",
            "Epoch 15/50\n",
            "134/134 [==============================] - 3s 25ms/step - loss: 0.0018\n",
            "Epoch 16/50\n",
            "134/134 [==============================] - 3s 24ms/step - loss: 0.0019\n",
            "Epoch 17/50\n",
            "134/134 [==============================] - 3s 23ms/step - loss: 0.0019\n",
            "Epoch 18/50\n",
            "134/134 [==============================] - 3s 23ms/step - loss: 0.0020\n",
            "Epoch 19/50\n",
            "134/134 [==============================] - 3s 23ms/step - loss: 0.0016\n",
            "Epoch 20/50\n",
            "134/134 [==============================] - 3s 23ms/step - loss: 0.0016\n",
            "Epoch 21/50\n",
            "134/134 [==============================] - 3s 22ms/step - loss: 0.0019\n",
            "Epoch 22/50\n",
            "134/134 [==============================] - 3s 23ms/step - loss: 0.0017\n",
            "Epoch 23/50\n",
            "134/134 [==============================] - 3s 23ms/step - loss: 0.0018\n",
            "Epoch 24/50\n",
            "134/134 [==============================] - 3s 24ms/step - loss: 0.0016\n",
            "Epoch 25/50\n",
            "134/134 [==============================] - 3s 24ms/step - loss: 0.0020\n",
            "Epoch 26/50\n",
            "134/134 [==============================] - 3s 23ms/step - loss: 0.0015\n",
            "Epoch 27/50\n",
            "134/134 [==============================] - 3s 23ms/step - loss: 0.0015\n",
            "Epoch 28/50\n",
            "134/134 [==============================] - 3s 24ms/step - loss: 0.0015\n",
            "Epoch 29/50\n",
            "134/134 [==============================] - 3s 23ms/step - loss: 0.0014\n",
            "Epoch 30/50\n",
            "134/134 [==============================] - 3s 23ms/step - loss: 0.0017\n",
            "Epoch 31/50\n",
            "134/134 [==============================] - 3s 23ms/step - loss: 0.0016\n",
            "Epoch 32/50\n",
            "134/134 [==============================] - 3s 23ms/step - loss: 0.0015\n",
            "Epoch 33/50\n",
            "134/134 [==============================] - 3s 23ms/step - loss: 0.0012\n",
            "Epoch 34/50\n",
            "134/134 [==============================] - 3s 23ms/step - loss: 0.0012\n",
            "Epoch 35/50\n",
            "134/134 [==============================] - 3s 23ms/step - loss: 0.0016\n",
            "Epoch 36/50\n",
            "134/134 [==============================] - 3s 23ms/step - loss: 0.0014\n",
            "Epoch 37/50\n",
            "134/134 [==============================] - 3s 23ms/step - loss: 0.0013\n",
            "Epoch 38/50\n",
            "134/134 [==============================] - 3s 23ms/step - loss: 0.0014\n",
            "Epoch 39/50\n",
            "134/134 [==============================] - 3s 22ms/step - loss: 0.0016\n",
            "Epoch 40/50\n",
            "134/134 [==============================] - 3s 23ms/step - loss: 0.0011\n",
            "Epoch 41/50\n",
            "134/134 [==============================] - 3s 23ms/step - loss: 0.0013\n",
            "Epoch 42/50\n",
            "134/134 [==============================] - 3s 23ms/step - loss: 0.0011\n",
            "Epoch 43/50\n",
            "134/134 [==============================] - 3s 23ms/step - loss: 0.0012\n",
            "Epoch 44/50\n",
            "134/134 [==============================] - 3s 23ms/step - loss: 0.0012\n",
            "Epoch 45/50\n",
            "134/134 [==============================] - 3s 23ms/step - loss: 0.0011\n",
            "Epoch 46/50\n",
            "134/134 [==============================] - 3s 22ms/step - loss: 0.0012\n",
            "Epoch 47/50\n",
            "134/134 [==============================] - 3s 22ms/step - loss: 0.0011\n",
            "Epoch 48/50\n",
            "134/134 [==============================] - 3s 22ms/step - loss: 0.0011\n",
            "Epoch 49/50\n",
            "134/134 [==============================] - 3s 23ms/step - loss: 0.0012\n",
            "Epoch 50/50\n",
            "134/134 [==============================] - 3s 22ms/step - loss: 0.0011\n"
          ]
        }
      ]
    },
    {
      "cell_type": "code",
      "source": [
        "plt.plot(history.history['loss'])\n",
        "plt.title('model loss for Google Stock Price Prediction')\n",
        "plt.ylabel('loss')\n",
        "plt.xlabel('epoch')\n",
        "plt.show()"
      ],
      "metadata": {
        "colab": {
          "base_uri": "https://localhost:8080/",
          "height": 295
        },
        "id": "Gkt-GgwLcj5T",
        "outputId": "fb723b6b-08ec-4a36-8212-482ae86c3977"
      },
      "execution_count": null,
      "outputs": [
        {
          "output_type": "display_data",
          "data": {
            "text/plain": [
              "<Figure size 432x288 with 1 Axes>"
            ],
            "image/png": "[encoded data removed]"
          },
          "metadata": {
            "needs_background": "light"
          }
        }
      ]
    },
    {
      "cell_type": "code",
      "source": [
        "dataset_test = df.iloc[4300:, 1:2]\n",
        "dataset_test.shape"
      ],
      "metadata": {
        "colab": {
          "base_uri": "https://localhost:8080/"
        },
        "id": "c5cM--NDcj7a",
        "outputId": "246726ab-4e01-4922-98b8-38738761e2e1"
      },
      "execution_count": null,
      "outputs": [
        {
          "output_type": "execute_result",
          "data": {
            "text/plain": [
              "(317, 1)"
            ]
          },
          "metadata": {},
          "execution_count": 81
        }
      ]
    },
    {
      "cell_type": "code",
      "source": [
        "dataset_train = df.iloc[:4300, 1:2]\n",
        "dataset_test = df.iloc[4300:, 1:2]\n",
        "dataset_total = pd.concat((dataset_train, dataset_test), axis = 0)\n",
        "inputs = dataset_total[len(dataset_total) - len(dataset_test) - 30:].values\n",
        "inputs = inputs.reshape(-1,1)\n",
        "inputs = sc.transform(inputs)\n",
        "X_test = []\n",
        "for i in range(30, 316):\n",
        "    X_test.append(inputs[i-30:i, 0])\n",
        "X_test = np.array(X_test)\n",
        "X_test = np.reshape(X_test, (X_test.shape[0], X_test.shape[1], 1))\n",
        "print(X_test.shape)\n"
      ],
      "metadata": {
        "colab": {
          "base_uri": "https://localhost:8080/"
        },
        "id": "0QLqEI1Zcj9m",
        "outputId": "78fd0954-0e16-48a9-d5c7-08a67878c058"
      },
      "execution_count": null,
      "outputs": [
        {
          "output_type": "stream",
          "name": "stdout",
          "text": [
            "(286, 30, 1)\n"
          ]
        }
      ]
    },
    {
      "cell_type": "code",
      "source": [
        "predicted_stock_price = model.predict(X_test)\n",
        "predicted_stock_price = sc.inverse_transform(predicted_stock_price)"
      ],
      "metadata": {
        "colab": {
          "base_uri": "https://localhost:8080/"
        },
        "id": "noivQ-OZcj_2",
        "outputId": "b7b0f1e2-9b24-4f3c-80e8-3acfd86d86e8"
      },
      "execution_count": null,
      "outputs": [
        {
          "output_type": "stream",
          "name": "stdout",
          "text": [
            "9/9 [==============================] - 4s 9ms/step\n"
          ]
        }
      ]
    },
    {
      "cell_type": "code",
      "source": [
        "true_y=dataset_test.values"
      ],
      "metadata": {
        "id": "uOdjm-aVc2B1"
      },
      "execution_count": null,
      "outputs": []
    },
    {
      "cell_type": "code",
      "source": [
        "plt.plot(predicted_stock_price, label='Predicted')\n",
        "plt.plot(true_y[0:286], label='Original')\n",
        "plt.xlabel('Forecasted Duration (in Days)')\n",
        "plt.ylabel('The Price of the Stock')\n",
        "plt.title('The Visualization of Orginal and Predicted Google Stock Prices')\n",
        "plt.legend()\n"
      ],
      "metadata": {
        "colab": {
          "base_uri": "https://localhost:8080/",
          "height": 312
        },
        "id": "sd2-l-6jc7G1",
        "outputId": "5e704fb3-ee3f-4380-8225-5ba08313bb07"
      },
      "execution_count": null,
      "outputs": [
        {
          "output_type": "execute_result",
          "data": {
            "text/plain": [
              "<matplotlib.legend.Legend at 0x7f5bdcc80fd0>"
            ]
          },
          "metadata": {},
          "execution_count": 85
        },
        {
          "output_type": "display_data",
          "data": {
            "text/plain": [
              "<Figure size 432x288 with 1 Axes>"
            ],
            "image/png": "[encoded data removed]"
          },
          "metadata": {
            "needs_background": "light"
          }
        }
      ]
    },
    {
      "cell_type": "code",
      "source": [
        "predicted_stock_price.shape"
      ],
      "metadata": {
        "colab": {
          "base_uri": "https://localhost:8080/"
        },
        "id": "O3M9jnjlc98W",
        "outputId": "de52f0d3-4cc6-4bea-82d1-64c8cc012e7a"
      },
      "execution_count": null,
      "outputs": [
        {
          "output_type": "execute_result",
          "data": {
            "text/plain": [
              "(286, 1)"
            ]
          },
          "metadata": {},
          "execution_count": 86
        }
      ]
    },
    {
      "cell_type": "code",
      "source": [
        "true_y[0:286].shape"
      ],
      "metadata": {
        "colab": {
          "base_uri": "https://localhost:8080/"
        },
        "id": "4fWeVvGYc9-3",
        "outputId": "6269bacd-3c28-41eb-8a32-40479dbf0687"
      },
      "execution_count": null,
      "outputs": [
        {
          "output_type": "execute_result",
          "data": {
            "text/plain": [
              "(286, 1)"
            ]
          },
          "metadata": {},
          "execution_count": 87
        }
      ]
    },
    {
      "cell_type": "code",
      "source": [
        "import math\n",
        "from sklearn.metrics import mean_squared_error\n",
        "error=math.sqrt(mean_squared_error(predicted_stock_price,true_y[0:286]))\n",
        "error"
      ],
      "metadata": {
        "colab": {
          "base_uri": "https://localhost:8080/"
        },
        "id": "--sJAelLc-BR",
        "outputId": "4f202c35-67d7-4803-a40b-86270dbfa3f6"
      },
      "execution_count": null,
      "outputs": [
        {
          "output_type": "execute_result",
          "data": {
            "text/plain": [
              "5.419975669531094"
            ]
          },
          "metadata": {},
          "execution_count": 88
        }
      ]
    },
    {
      "cell_type": "code",
      "source": [],
      "metadata": {
        "id": "V9wwxi4laoK4"
      },
      "execution_count": null,
      "outputs": []
    },
    {
      "cell_type": "code",
      "source": [],
      "metadata": {
        "id": "fjBDB5WdaoN3"
      },
      "execution_count": null,
      "outputs": []
    },
    {
      "cell_type": "code",
      "source": [],
      "metadata": {
        "id": "obtxPr2GaoQe"
      },
      "execution_count": null,
      "outputs": []
    },
    {
      "cell_type": "code",
      "source": [
        "import math\n",
        "import matplotlib.pyplot as plt\n",
        "import keras\n",
        "import pandas as pd\n",
        "import numpy as np\n",
        "from keras.models import Sequential\n",
        "from keras.layers import Dense\n",
        "from keras.layers import Bidirectional\n",
        "from keras.layers import LSTM\n",
        "from keras.layers import Dropout\n",
        "from keras.layers import *\n",
        "from sklearn.preprocessing import MinMaxScaler\n",
        "from sklearn.metrics import mean_squared_error\n",
        "from sklearn.metrics import mean_absolute_error\n",
        "from sklearn.model_selection import train_test_split\n",
        "from keras.callbacks import EarlyStopping"
      ],
      "metadata": {
        "id": "PwNxisRgaoSq"
      },
      "execution_count": null,
      "outputs": []
    },
    {
      "cell_type": "code",
      "source": [
        "df = yf.download('MSFT',end='2022-12-20')"
      ],
      "metadata": {
        "colab": {
          "base_uri": "https://localhost:8080/"
        },
        "id": "CBdM4x_0aruW",
        "outputId": "12463f1a-7136-4287-b539-eac02b234f04"
      },
      "execution_count": null,
      "outputs": [
        {
          "output_type": "stream",
          "name": "stdout",
          "text": [
            "\r[*********************100%***********************]  1 of 1 completed\n"
          ]
        }
      ]
    },
    {
      "cell_type": "code",
      "source": [
        "df"
      ],
      "metadata": {
        "colab": {
          "base_uri": "https://localhost:8080/",
          "height": 455
        },
        "id": "miR-6Z8ZavER",
        "outputId": "f9965220-33eb-4705-ae26-22d1c7c760a8"
      },
      "execution_count": null,
      "outputs": [
        {
          "output_type": "execute_result",
          "data": {
            "text/plain": [
              "                  Open        High         Low       Close   Adj Close  \\\n",
              "Date                                                                     \n",
              "1986-03-13    0.088542    0.101563    0.088542    0.097222    0.060809   \n",
              "1986-03-14    0.097222    0.102431    0.097222    0.100694    0.062980   \n",
              "1986-03-17    0.100694    0.103299    0.100694    0.102431    0.064067   \n",
              "1986-03-18    0.102431    0.103299    0.098958    0.099826    0.062437   \n",
              "1986-03-19    0.099826    0.100694    0.097222    0.098090    0.061351   \n",
              "...                ...         ...         ...         ...         ...   \n",
              "2022-12-13  261.690002  263.920013  253.070007  256.920013  256.920013   \n",
              "2022-12-14  257.130005  262.589996  254.309998  257.220001  257.220001   \n",
              "2022-12-15  253.720001  254.199997  247.339996  249.009995  249.009995   \n",
              "2022-12-16  248.550003  249.839996  243.509995  244.690002  244.690002   \n",
              "2022-12-19  244.860001  245.210007  238.710007  240.449997  240.449997   \n",
              "\n",
              "                Volume  \n",
              "Date                    \n",
              "1986-03-13  1031788800  \n",
              "1986-03-14   308160000  \n",
              "1986-03-17   133171200  \n",
              "1986-03-18    67766400  \n",
              "1986-03-19    47894400  \n",
              "...                ...  \n",
              "2022-12-13    42196900  \n",
              "2022-12-14    35410900  \n",
              "2022-12-15    35560400  \n",
              "2022-12-16    86088100  \n",
              "2022-12-19    29696400  \n",
              "\n",
              "[9269 rows x 6 columns]"
            ],
            "text/html": [
              "\n",
              "  <div id=\"df-36aa8b30-dccb-4337-8bf3-b52d4ff8c641\">\n",
              "    <div class=\"colab-df-container\">\n",
              "      <div>\n",
              "<style scoped>\n",
              "    .dataframe tbody tr th:only-of-type {\n",
              "        vertical-align: middle;\n",
              "    }\n",
              "\n",
              "    .dataframe tbody tr th {\n",
              "        vertical-align: top;\n",
              "    }\n",
              "\n",
              "    .dataframe thead th {\n",
              "        text-align: right;\n",
              "    }\n",
              "</style>\n",
              "<table border=\"1\" class=\"dataframe\">\n",
              "  <thead>\n",
              "    <tr style=\"text-align: right;\">\n",
              "      <th></th>\n",
              "      <th>Open</th>\n",
              "      <th>High</th>\n",
              "      <th>Low</th>\n",
              "      <th>Close</th>\n",
              "      <th>Adj Close</th>\n",
              "      <th>Volume</th>\n",
              "    </tr>\n",
              "    <tr>\n",
              "      <th>Date</th>\n",
              "      <th></th>\n",
              "      <th></th>\n",
              "      <th></th>\n",
              "      <th></th>\n",
              "      <th></th>\n",
              "      <th></th>\n",
              "    </tr>\n",
              "  </thead>\n",
              "  <tbody>\n",
              "    <tr>\n",
              "      <th>1986-03-13</th>\n",
              "      <td>0.088542</td>\n",
              "      <td>0.101563</td>\n",
              "      <td>0.088542</td>\n",
              "      <td>0.097222</td>\n",
              "      <td>0.060809</td>\n",
              "      <td>1031788800</td>\n",
              "    </tr>\n",
              "    <tr>\n",
              "      <th>1986-03-14</th>\n",
              "      <td>0.097222</td>\n",
              "      <td>0.102431</td>\n",
              "      <td>0.097222</td>\n",
              "      <td>0.100694</td>\n",
              "      <td>0.062980</td>\n",
              "      <td>308160000</td>\n",
              "    </tr>\n",
              "    <tr>\n",
              "      <th>1986-03-17</th>\n",
              "      <td>0.100694</td>\n",
              "      <td>0.103299</td>\n",
              "      <td>0.100694</td>\n",
              "      <td>0.102431</td>\n",
              "      <td>0.064067</td>\n",
              "      <td>133171200</td>\n",
              "    </tr>\n",
              "    <tr>\n",
              "      <th>1986-03-18</th>\n",
              "      <td>0.102431</td>\n",
              "      <td>0.103299</td>\n",
              "      <td>0.098958</td>\n",
              "      <td>0.099826</td>\n",
              "      <td>0.062437</td>\n",
              "      <td>67766400</td>\n",
              "    </tr>\n",
              "    <tr>\n",
              "      <th>1986-03-19</th>\n",
              "      <td>0.099826</td>\n",
              "      <td>0.100694</td>\n",
              "      <td>0.097222</td>\n",
              "      <td>0.098090</td>\n",
              "      <td>0.061351</td>\n",
              "      <td>47894400</td>\n",
              "    </tr>\n",
              "    <tr>\n",
              "      <th>...</th>\n",
              "      <td>...</td>\n",
              "      <td>...</td>\n",
              "      <td>...</td>\n",
              "      <td>...</td>\n",
              "      <td>...</td>\n",
              "      <td>...</td>\n",
              "    </tr>\n",
              "    <tr>\n",
              "      <th>2022-12-13</th>\n",
              "      <td>261.690002</td>\n",
              "      <td>263.920013</td>\n",
              "      <td>253.070007</td>\n",
              "      <td>256.920013</td>\n",
              "      <td>256.920013</td>\n",
              "      <td>42196900</td>\n",
              "    </tr>\n",
              "    <tr>\n",
              "      <th>2022-12-14</th>\n",
              "      <td>257.130005</td>\n",
              "      <td>262.589996</td>\n",
              "      <td>254.309998</td>\n",
              "      <td>257.220001</td>\n",
              "      <td>257.220001</td>\n",
              "      <td>35410900</td>\n",
              "    </tr>\n",
              "    <tr>\n",
              "      <th>2022-12-15</th>\n",
              "      <td>253.720001</td>\n",
              "      <td>254.199997</td>\n",
              "      <td>247.339996</td>\n",
              "      <td>249.009995</td>\n",
              "      <td>249.009995</td>\n",
              "      <td>35560400</td>\n",
              "    </tr>\n",
              "    <tr>\n",
              "      <th>2022-12-16</th>\n",
              "      <td>248.550003</td>\n",
              "      <td>249.839996</td>\n",
              "      <td>243.509995</td>\n",
              "      <td>244.690002</td>\n",
              "      <td>244.690002</td>\n",
              "      <td>86088100</td>\n",
              "    </tr>\n",
              "    <tr>\n",
              "      <th>2022-12-19</th>\n",
              "      <td>244.860001</td>\n",
              "      <td>245.210007</td>\n",
              "      <td>238.710007</td>\n",
              "      <td>240.449997</td>\n",
              "      <td>240.449997</td>\n",
              "      <td>29696400</td>\n",
              "    </tr>\n",
              "  </tbody>\n",
              "</table>\n",
              "<p>9269 rows × 6 columns</p>\n",
              "</div>\n",
              "      <button class=\"colab-df-convert\" onclick=\"convertToInteractive('df-36aa8b30-dccb-4337-8bf3-b52d4ff8c641')\"\n",
              "              title=\"Convert this dataframe to an interactive table.\"\n",
              "              style=\"display:none;\">\n",
              "        \n",
              "  <svg xmlns=\"http://www.w3.org/2000/svg\" height=\"24px\"viewBox=\"0 0 24 24\"\n",
              "       width=\"24px\">\n",
              "    <path d=\"M0 0h24v24H0V0z\" fill=\"none\"/>\n",
              "    <path d=\"M18.56 5.44l.94 2.06.94-2.06 2.06-.94-2.06-.94-.94-2.06-.94 2.06-2.06.94zm-11 1L8.5 8.5l.94-2.06 2.06-.94-2.06-.94L8.5 2.5l-.94 2.06-2.06.94zm10 10l.94 2.06.94-2.06 2.06-.94-2.06-.94-.94-2.06-.94 2.06-2.06.94z\"/><path d=\"M17.41 7.96l-1.37-1.37c-.4-.4-.92-.59-1.43-.59-.52 0-1.04.2-1.43.59L10.3 9.45l-7.72 7.72c-.78.78-.78 2.05 0 2.83L4 21.41c.39.39.9.59 1.41.59.51 0 1.02-.2 1.41-.59l7.78-7.78 2.81-2.81c.8-.78.8-2.07 0-2.86zM5.41 20L4 18.59l7.72-7.72 1.47 1.35L5.41 20z\"/>\n",
              "  </svg>\n",
              "      </button>\n",
              "      \n",
              "  <style>\n",
              "    .colab-df-container {\n",
              "      display:flex;\n",
              "      flex-wrap:wrap;\n",
              "      gap: 12px;\n",
              "    }\n",
              "\n",
              "    .colab-df-convert {\n",
              "      background-color: #E8F0FE;\n",
              "      border: none;\n",
              "      border-radius: 50%;\n",
              "      cursor: pointer;\n",
              "      display: none;\n",
              "      fill: #1967D2;\n",
              "      height: 32px;\n",
              "      padding: 0 0 0 0;\n",
              "      width: 32px;\n",
              "    }\n",
              "\n",
              "    .colab-df-convert:hover {\n",
              "      background-color: #E2EBFA;\n",
              "      box-shadow: 0px 1px 2px rgba(60, 64, 67, 0.3), 0px 1px 3px 1px rgba(60, 64, 67, 0.15);\n",
              "      fill: #174EA6;\n",
              "    }\n",
              "\n",
              "    [theme=dark] .colab-df-convert {\n",
              "      background-color: #3B4455;\n",
              "      fill: #D2E3FC;\n",
              "    }\n",
              "\n",
              "    [theme=dark] .colab-df-convert:hover {\n",
              "      background-color: #434B5C;\n",
              "      box-shadow: 0px 1px 3px 1px rgba(0, 0, 0, 0.15);\n",
              "      filter: drop-shadow(0px 1px 2px rgba(0, 0, 0, 0.3));\n",
              "      fill: #FFFFFF;\n",
              "    }\n",
              "  </style>\n",
              "\n",
              "      <script>\n",
              "        const buttonEl =\n",
              "          document.querySelector('#df-36aa8b30-dccb-4337-8bf3-b52d4ff8c641 button.colab-df-convert');\n",
              "        buttonEl.style.display =\n",
              "          google.colab.kernel.accessAllowed ? 'block' : 'none';\n",
              "\n",
              "        async function convertToInteractive(key) {\n",
              "          const element = document.querySelector('#df-36aa8b30-dccb-4337-8bf3-b52d4ff8c641');\n",
              "          const dataTable =\n",
              "            await google.colab.kernel.invokeFunction('convertToInteractive',\n",
              "                                                     [key], {});\n",
              "          if (!dataTable) return;\n",
              "\n",
              "          const docLinkHtml = 'Like what you see? Visit the ' +\n",
              "            '<a target=\"_blank\" href=https://colab.research.google.com/notebooks/data_table.ipynb>data table notebook</a>'\n",
              "            + ' to learn more about interactive tables.';\n",
              "          element.innerHTML = '';\n",
              "          dataTable['output_type'] = 'display_data';\n",
              "          await google.colab.output.renderOutput(dataTable, element);\n",
              "          const docLink = document.createElement('div');\n",
              "          docLink.innerHTML = docLinkHtml;\n",
              "          element.appendChild(docLink);\n",
              "        }\n",
              "      </script>\n",
              "    </div>\n",
              "  </div>\n",
              "  "
            ]
          },
          "metadata": {},
          "execution_count": 91
        }
      ]
    },
    {
      "cell_type": "code",
      "source": [
        "df.shape"
      ],
      "metadata": {
        "colab": {
          "base_uri": "https://localhost:8080/"
        },
        "id": "jyH5rfrlaxwT",
        "outputId": "2d49f6e1-5e14-4653-9e9d-7015021705bc"
      },
      "execution_count": null,
      "outputs": [
        {
          "output_type": "execute_result",
          "data": {
            "text/plain": [
              "(9269, 6)"
            ]
          },
          "metadata": {},
          "execution_count": 92
        }
      ]
    },
    {
      "cell_type": "code",
      "source": [
        "training_set = df.iloc[:9000, 1:2].values\n",
        "test_set = df.iloc[9000:, 1:2].values"
      ],
      "metadata": {
        "id": "0r7xqHXoa2NH"
      },
      "execution_count": null,
      "outputs": []
    },
    {
      "cell_type": "code",
      "source": [
        "# Feature Scaling\n",
        "sc = MinMaxScaler(feature_range = (-1, 1))\n",
        "training_set_scaled = sc.fit_transform(training_set)\n",
        "# Creating a data structure with 60 time-steps and 1 output\n",
        "X_train = []\n",
        "y_train = []\n",
        "for i in range(30, 9000):\n",
        "    X_train.append(training_set_scaled[i-30:i, 0])\n",
        "    y_train.append(training_set_scaled[i, 0])\n",
        "X_train, y_train = np.array(X_train), np.array(y_train)\n",
        "X_train = np.reshape(X_train, (X_train.shape[0], X_train.shape[1], 1))\n"
      ],
      "metadata": {
        "id": "u-cUq79sa8JU"
      },
      "execution_count": null,
      "outputs": []
    },
    {
      "cell_type": "code",
      "source": [
        "model = Sequential()\n",
        "#Adding the first LSTM layer and some Dropout regularisation\n",
        "model.add(Bidirectional(LSTM(units = 50, return_sequences = True, input_shape = (X_train.shape[1], 1))))\n",
        "model.add(Dropout(0.2))\n",
        "# Adding a second LSTM layer and some Dropout regularisation\n",
        "model.add(Bidirectional(LSTM(units = 50, return_sequences = True)))\n",
        "model.add(Dropout(0.2))\n",
        "# Adding a third LSTM layer and some Dropout regularisation\n",
        "model.add(Bidirectional(LSTM(units = 50, return_sequences = True)))\n",
        "model.add(Dropout(0.2))\n",
        "# Adding a fourth LSTM layer and some Dropout regularisation\n",
        "model.add(Bidirectional(LSTM(units = 50)))\n",
        "model.add(Dropout(0.2))\n",
        "# Adding the output layer\n",
        "model.add(Dense(units = 1))\n",
        "\n",
        "# Compiling the RNN\n",
        "model.compile(optimizer = 'adam', loss = 'mean_squared_error')\n",
        "\n",
        "# Fitting the RNN to the Training set\n",
        "history=model.fit(X_train, y_train, epochs = 50, batch_size = 16)"
      ],
      "metadata": {
        "colab": {
          "base_uri": "https://localhost:8080/"
        },
        "id": "UujmY5w1a-8l",
        "outputId": "c6457776-9160-447f-9371-3a5f2df41a52"
      },
      "execution_count": null,
      "outputs": [
        {
          "output_type": "stream",
          "name": "stdout",
          "text": [
            "Epoch 1/50\n",
            "561/561 [==============================] - 24s 22ms/step - loss: 0.0075\n",
            "Epoch 2/50\n",
            "561/561 [==============================] - 12s 22ms/step - loss: 0.0033\n",
            "Epoch 3/50\n",
            "561/561 [==============================] - 12s 22ms/step - loss: 0.0029\n",
            "Epoch 4/50\n",
            "561/561 [==============================] - 12s 22ms/step - loss: 0.0023\n",
            "Epoch 5/50\n",
            "561/561 [==============================] - 12s 22ms/step - loss: 0.0022\n",
            "Epoch 6/50\n",
            "561/561 [==============================] - 12s 22ms/step - loss: 0.0022\n",
            "Epoch 7/50\n",
            "561/561 [==============================] - 13s 23ms/step - loss: 0.0020\n",
            "Epoch 8/50\n",
            "561/561 [==============================] - 12s 22ms/step - loss: 0.0021\n",
            "Epoch 9/50\n",
            "561/561 [==============================] - 12s 22ms/step - loss: 0.0016\n",
            "Epoch 10/50\n",
            "561/561 [==============================] - 12s 22ms/step - loss: 0.0017\n",
            "Epoch 11/50\n",
            "561/561 [==============================] - 12s 22ms/step - loss: 0.0015\n",
            "Epoch 12/50\n",
            "561/561 [==============================] - 12s 22ms/step - loss: 0.0014\n",
            "Epoch 13/50\n",
            "561/561 [==============================] - 12s 22ms/step - loss: 0.0013\n",
            "Epoch 14/50\n",
            "561/561 [==============================] - 12s 22ms/step - loss: 0.0012\n",
            "Epoch 15/50\n",
            "561/561 [==============================] - 12s 22ms/step - loss: 0.0012\n",
            "Epoch 16/50\n",
            "561/561 [==============================] - 12s 22ms/step - loss: 0.0012\n",
            "Epoch 17/50\n",
            "561/561 [==============================] - 12s 22ms/step - loss: 0.0010\n",
            "Epoch 18/50\n",
            "561/561 [==============================] - 12s 21ms/step - loss: 9.4884e-04\n",
            "Epoch 19/50\n",
            "561/561 [==============================] - 12s 22ms/step - loss: 9.5211e-04\n",
            "Epoch 20/50\n",
            "561/561 [==============================] - 12s 22ms/step - loss: 9.8814e-04\n",
            "Epoch 21/50\n",
            "561/561 [==============================] - 12s 21ms/step - loss: 0.0011\n",
            "Epoch 22/50\n",
            "561/561 [==============================] - 12s 22ms/step - loss: 8.5185e-04\n",
            "Epoch 23/50\n",
            "561/561 [==============================] - 12s 21ms/step - loss: 8.4936e-04\n",
            "Epoch 24/50\n",
            "561/561 [==============================] - 13s 23ms/step - loss: 8.8243e-04\n",
            "Epoch 25/50\n",
            "561/561 [==============================] - 12s 22ms/step - loss: 8.3233e-04\n",
            "Epoch 26/50\n",
            "561/561 [==============================] - 12s 21ms/step - loss: 7.9954e-04\n",
            "Epoch 27/50\n",
            "561/561 [==============================] - 12s 22ms/step - loss: 9.2723e-04\n",
            "Epoch 28/50\n",
            "561/561 [==============================] - 12s 21ms/step - loss: 7.9538e-04\n",
            "Epoch 29/50\n",
            "561/561 [==============================] - 12s 21ms/step - loss: 7.5501e-04\n",
            "Epoch 30/50\n",
            "561/561 [==============================] - 12s 22ms/step - loss: 7.1296e-04\n",
            "Epoch 31/50\n",
            "561/561 [==============================] - 12s 22ms/step - loss: 8.1869e-04\n",
            "Epoch 32/50\n",
            "561/561 [==============================] - 12s 22ms/step - loss: 7.4703e-04\n",
            "Epoch 33/50\n",
            "561/561 [==============================] - 12s 21ms/step - loss: 7.1530e-04\n",
            "Epoch 34/50\n",
            "561/561 [==============================] - 12s 22ms/step - loss: 6.9209e-04\n",
            "Epoch 35/50\n",
            "561/561 [==============================] - 13s 22ms/step - loss: 7.4573e-04\n",
            "Epoch 36/50\n",
            "561/561 [==============================] - 13s 23ms/step - loss: 6.9015e-04\n",
            "Epoch 37/50\n",
            "561/561 [==============================] - 12s 22ms/step - loss: 8.2044e-04\n",
            "Epoch 38/50\n",
            "561/561 [==============================] - 12s 22ms/step - loss: 7.1999e-04\n",
            "Epoch 39/50\n",
            "561/561 [==============================] - 12s 22ms/step - loss: 6.4909e-04\n",
            "Epoch 40/50\n",
            "561/561 [==============================] - 12s 22ms/step - loss: 7.1572e-04\n",
            "Epoch 41/50\n",
            "561/561 [==============================] - 13s 22ms/step - loss: 6.3990e-04\n",
            "Epoch 42/50\n",
            "561/561 [==============================] - 12s 21ms/step - loss: 6.5599e-04\n",
            "Epoch 43/50\n",
            "561/561 [==============================] - 12s 21ms/step - loss: 6.1135e-04\n",
            "Epoch 44/50\n",
            "561/561 [==============================] - 12s 22ms/step - loss: 6.5786e-04\n",
            "Epoch 45/50\n",
            "561/561 [==============================] - 12s 22ms/step - loss: 6.2158e-04\n",
            "Epoch 46/50\n",
            "561/561 [==============================] - 12s 22ms/step - loss: 6.5879e-04\n",
            "Epoch 47/50\n",
            "561/561 [==============================] - 12s 22ms/step - loss: 6.8557e-04\n",
            "Epoch 48/50\n",
            "561/561 [==============================] - 12s 21ms/step - loss: 5.9964e-04\n",
            "Epoch 49/50\n",
            "561/561 [==============================] - 12s 22ms/step - loss: 6.9868e-04\n",
            "Epoch 50/50\n",
            "561/561 [==============================] - 12s 22ms/step - loss: 7.6561e-04\n"
          ]
        }
      ]
    },
    {
      "cell_type": "code",
      "source": [
        "plt.plot(history.history['loss'])\n",
        "plt.title('model loss for Microsoft Stock price predicion')\n",
        "plt.ylabel('loss')\n",
        "plt.xlabel('epoch')\n",
        "plt.show()"
      ],
      "metadata": {
        "colab": {
          "base_uri": "https://localhost:8080/",
          "height": 295
        },
        "id": "GA214exKbB4i",
        "outputId": "50429e05-921d-4506-adc0-da04a69eabe7"
      },
      "execution_count": null,
      "outputs": [
        {
          "output_type": "display_data",
          "data": {
            "text/plain": [
              "<Figure size 432x288 with 1 Axes>"
            ],
            "image/png": "[encoded data removed]"
          },
          "metadata": {
            "needs_background": "light"
          }
        }
      ]
    },
    {
      "cell_type": "code",
      "source": [
        "dataset_test = df.iloc[9000:, 1:2]\n",
        "dataset_test.shape"
      ],
      "metadata": {
        "colab": {
          "base_uri": "https://localhost:8080/"
        },
        "id": "Lt3p3anCbF8E",
        "outputId": "e31d36d6-e6a7-4328-a701-1c124227abaf"
      },
      "execution_count": null,
      "outputs": [
        {
          "output_type": "execute_result",
          "data": {
            "text/plain": [
              "(269, 1)"
            ]
          },
          "metadata": {},
          "execution_count": 97
        }
      ]
    },
    {
      "cell_type": "code",
      "source": [
        "dataset_train = df.iloc[:9000, 1:2]\n",
        "dataset_test = df.iloc[9000:, 1:2]\n",
        "dataset_total = pd.concat((dataset_train, dataset_test), axis = 0)\n",
        "inputs = dataset_total[len(dataset_total) - len(dataset_test) - 30:].values\n",
        "inputs = inputs.reshape(-1,1)\n",
        "inputs = sc.transform(inputs)\n",
        "X_test = []\n",
        "for i in range(30, 269):\n",
        "    X_test.append(inputs[i-30:i, 0])\n",
        "X_test = np.array(X_test)\n",
        "X_test = np.reshape(X_test, (X_test.shape[0], X_test.shape[1], 1))\n",
        "print(X_test.shape)\n"
      ],
      "metadata": {
        "colab": {
          "base_uri": "https://localhost:8080/"
        },
        "id": "veeLqvfHbF-z",
        "outputId": "e1ad4210-f598-4a13-9eaa-025d047a7ab5"
      },
      "execution_count": null,
      "outputs": [
        {
          "output_type": "stream",
          "name": "stdout",
          "text": [
            "(239, 30, 1)\n"
          ]
        }
      ]
    },
    {
      "cell_type": "code",
      "source": [
        "predicted_stock_price = model.predict(X_test)\n",
        "predicted_stock_price = sc.inverse_transform(predicted_stock_price)"
      ],
      "metadata": {
        "colab": {
          "base_uri": "https://localhost:8080/"
        },
        "id": "MVzTfCSvbGDA",
        "outputId": "778f2dc1-c678-4486-baaa-6a3b6c125681"
      },
      "execution_count": null,
      "outputs": [
        {
          "output_type": "stream",
          "name": "stdout",
          "text": [
            "8/8 [==============================] - 3s 9ms/step\n"
          ]
        }
      ]
    },
    {
      "cell_type": "code",
      "source": [
        "true_y=dataset_test.values"
      ],
      "metadata": {
        "id": "6Gjn9kk2bS5T"
      },
      "execution_count": null,
      "outputs": []
    },
    {
      "cell_type": "code",
      "source": [
        "\n",
        "\n",
        "plt.plot(predicted_stock_price, label='Predicted')\n",
        "plt.plot(true_y[0:239], label='Original')\n",
        "plt.xlabel('Forecasted Duration ( in Days)')\n",
        "plt.ylabel('The Price of the Stock')\n",
        "plt.title('The Visualization of Orginal and Predicted Microsoft Stock Prices')\n",
        "plt.legend()\n"
      ],
      "metadata": {
        "colab": {
          "base_uri": "https://localhost:8080/",
          "height": 312
        },
        "id": "IbRujrPybVTy",
        "outputId": "603135be-42b1-4d16-a990-e9b425f2553a"
      },
      "execution_count": null,
      "outputs": [
        {
          "output_type": "execute_result",
          "data": {
            "text/plain": [
              "<matplotlib.legend.Legend at 0x7f5b7f784940>"
            ]
          },
          "metadata": {},
          "execution_count": 101
        },
        {
          "output_type": "display_data",
          "data": {
            "text/plain": [
              "<Figure size 432x288 with 1 Axes>"
            ],
            "image/png": "[encoded data removed]"
          },
          "metadata": {
            "needs_background": "light"
          }
        }
      ]
    },
    {
      "cell_type": "code",
      "source": [
        "predicted_stock_price.shape"
      ],
      "metadata": {
        "colab": {
          "base_uri": "https://localhost:8080/"
        },
        "id": "soYJTEK9baWS",
        "outputId": "058b84a0-01af-494f-8add-b8c0ed0b776a"
      },
      "execution_count": null,
      "outputs": [
        {
          "output_type": "execute_result",
          "data": {
            "text/plain": [
              "(239, 1)"
            ]
          },
          "metadata": {},
          "execution_count": 102
        }
      ]
    },
    {
      "cell_type": "code",
      "source": [
        "true_y[0:239].shape"
      ],
      "metadata": {
        "colab": {
          "base_uri": "https://localhost:8080/"
        },
        "id": "F4OoSSn-bcb0",
        "outputId": "48cf096e-e890-4e96-b5a4-f995345b837d"
      },
      "execution_count": null,
      "outputs": [
        {
          "output_type": "execute_result",
          "data": {
            "text/plain": [
              "(239, 1)"
            ]
          },
          "metadata": {},
          "execution_count": 103
        }
      ]
    },
    {
      "cell_type": "code",
      "source": [
        "import math\n",
        "from sklearn.metrics import mean_squared_error\n",
        "error=math.sqrt(mean_squared_error(predicted_stock_price,true_y[0:239]))\n",
        "error"
      ],
      "metadata": {
        "colab": {
          "base_uri": "https://localhost:8080/"
        },
        "id": "w8anzRy-bfHG",
        "outputId": "e0944cc0-c4b1-4abf-ca29-0e17238dcd15"
      },
      "execution_count": null,
      "outputs": [
        {
          "output_type": "execute_result",
          "data": {
            "text/plain": [
              "15.581931283773116"
            ]
          },
          "metadata": {},
          "execution_count": 104
        }
      ]
    }
  ]
}